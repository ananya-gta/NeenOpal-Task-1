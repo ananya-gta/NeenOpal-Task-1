{
  "nbformat": 4,
  "nbformat_minor": 0,
  "metadata": {
    "colab": {
      "provenance": []
    },
    "kernelspec": {
      "name": "python3",
      "display_name": "Python 3"
    },
    "language_info": {
      "name": "python"
    }
  },
  "cells": [
    {
      "cell_type": "markdown",
      "source": [
        "# **Ananya Gupta**"
      ],
      "metadata": {
        "id": "eOx52XJjpDzv"
      }
    },
    {
      "cell_type": "markdown",
      "source": [
        "**Dataset Used** : Records Matching Task - data1.csv & \n",
        "                 Records Matching Task - data2.csv\n",
        " **https://docs.google.com/spreadsheets/d/1g99QKwm2V-_JMXtup7Nk081axpxRYbBx/edit?usp=sharing&ouid=103676608938964511475&rtpof=true&sd=true**"
      ],
      "metadata": {
        "id": "QDoTkjqVkekI"
      }
    },
    {
      "cell_type": "code",
      "source": [
        "# Importing the required libraries\n",
        "import numpy as np\n",
        "import pandas as pd"
      ],
      "metadata": {
        "id": "4a0l52jgkj4j"
      },
      "execution_count": 9,
      "outputs": []
    },
    {
      "cell_type": "markdown",
      "source": [
        "**Reading data1 table from the given dataset to Pandas Dataframe**"
      ],
      "metadata": {
        "id": "0G5n8XR0l2tu"
      }
    },
    {
      "cell_type": "code",
      "source": [
        "data1 = pd.read_csv('Records Matching Task - data1.csv')"
      ],
      "metadata": {
        "id": "Yu5diSIBmNY9"
      },
      "execution_count": 4,
      "outputs": []
    },
    {
      "cell_type": "markdown",
      "source": [
        "**Combining Order Id + Product ID into one unique column**"
      ],
      "metadata": {
        "id": "WBTxfxkinuzc"
      }
    },
    {
      "cell_type": "code",
      "source": [
        "data1['Unique ID1'] = data1['Order ID'] + \" \" + data1['Product ID']"
      ],
      "metadata": {
        "id": "1RvNaXBFns7s"
      },
      "execution_count": 5,
      "outputs": []
    },
    {
      "cell_type": "code",
      "source": [
        "# Printing the first 5 rows of data1\n",
        "data1.head()"
      ],
      "metadata": {
        "colab": {
          "base_uri": "https://localhost:8080/",
          "height": 206
        },
        "id": "XztrtIcnoUOI",
        "outputId": "47f42445-d863-4d72-b2ba-2ae604740233"
      },
      "execution_count": 6,
      "outputs": [
        {
          "output_type": "execute_result",
          "data": {
            "text/plain": [
              "         Order ID       Product ID  Qty                      Unique ID1\n",
              "0  CA-2014-100006  TEC-PH-10002075    3  CA-2014-100006 TEC-PH-10002075\n",
              "1  CA-2014-100090  FUR-TA-10003715    3  CA-2014-100090 FUR-TA-10003715\n",
              "2  CA-2014-100090  OFF-BI-10001597    6  CA-2014-100090 OFF-BI-10001597\n",
              "3  CA-2014-100293  OFF-PA-10000176    6  CA-2014-100293 OFF-PA-10000176\n",
              "4  CA-2014-100328  OFF-BI-10000343    1  CA-2014-100328 OFF-BI-10000343"
            ],
            "text/html": [
              "\n",
              "  <div id=\"df-8a15f872-94b9-4340-92c8-bd3641df4dfa\">\n",
              "    <div class=\"colab-df-container\">\n",
              "      <div>\n",
              "<style scoped>\n",
              "    .dataframe tbody tr th:only-of-type {\n",
              "        vertical-align: middle;\n",
              "    }\n",
              "\n",
              "    .dataframe tbody tr th {\n",
              "        vertical-align: top;\n",
              "    }\n",
              "\n",
              "    .dataframe thead th {\n",
              "        text-align: right;\n",
              "    }\n",
              "</style>\n",
              "<table border=\"1\" class=\"dataframe\">\n",
              "  <thead>\n",
              "    <tr style=\"text-align: right;\">\n",
              "      <th></th>\n",
              "      <th>Order ID</th>\n",
              "      <th>Product ID</th>\n",
              "      <th>Qty</th>\n",
              "      <th>Unique ID1</th>\n",
              "    </tr>\n",
              "  </thead>\n",
              "  <tbody>\n",
              "    <tr>\n",
              "      <th>0</th>\n",
              "      <td>CA-2014-100006</td>\n",
              "      <td>TEC-PH-10002075</td>\n",
              "      <td>3</td>\n",
              "      <td>CA-2014-100006 TEC-PH-10002075</td>\n",
              "    </tr>\n",
              "    <tr>\n",
              "      <th>1</th>\n",
              "      <td>CA-2014-100090</td>\n",
              "      <td>FUR-TA-10003715</td>\n",
              "      <td>3</td>\n",
              "      <td>CA-2014-100090 FUR-TA-10003715</td>\n",
              "    </tr>\n",
              "    <tr>\n",
              "      <th>2</th>\n",
              "      <td>CA-2014-100090</td>\n",
              "      <td>OFF-BI-10001597</td>\n",
              "      <td>6</td>\n",
              "      <td>CA-2014-100090 OFF-BI-10001597</td>\n",
              "    </tr>\n",
              "    <tr>\n",
              "      <th>3</th>\n",
              "      <td>CA-2014-100293</td>\n",
              "      <td>OFF-PA-10000176</td>\n",
              "      <td>6</td>\n",
              "      <td>CA-2014-100293 OFF-PA-10000176</td>\n",
              "    </tr>\n",
              "    <tr>\n",
              "      <th>4</th>\n",
              "      <td>CA-2014-100328</td>\n",
              "      <td>OFF-BI-10000343</td>\n",
              "      <td>1</td>\n",
              "      <td>CA-2014-100328 OFF-BI-10000343</td>\n",
              "    </tr>\n",
              "  </tbody>\n",
              "</table>\n",
              "</div>\n",
              "      <button class=\"colab-df-convert\" onclick=\"convertToInteractive('df-8a15f872-94b9-4340-92c8-bd3641df4dfa')\"\n",
              "              title=\"Convert this dataframe to an interactive table.\"\n",
              "              style=\"display:none;\">\n",
              "        \n",
              "  <svg xmlns=\"http://www.w3.org/2000/svg\" height=\"24px\"viewBox=\"0 0 24 24\"\n",
              "       width=\"24px\">\n",
              "    <path d=\"M0 0h24v24H0V0z\" fill=\"none\"/>\n",
              "    <path d=\"M18.56 5.44l.94 2.06.94-2.06 2.06-.94-2.06-.94-.94-2.06-.94 2.06-2.06.94zm-11 1L8.5 8.5l.94-2.06 2.06-.94-2.06-.94L8.5 2.5l-.94 2.06-2.06.94zm10 10l.94 2.06.94-2.06 2.06-.94-2.06-.94-.94-2.06-.94 2.06-2.06.94z\"/><path d=\"M17.41 7.96l-1.37-1.37c-.4-.4-.92-.59-1.43-.59-.52 0-1.04.2-1.43.59L10.3 9.45l-7.72 7.72c-.78.78-.78 2.05 0 2.83L4 21.41c.39.39.9.59 1.41.59.51 0 1.02-.2 1.41-.59l7.78-7.78 2.81-2.81c.8-.78.8-2.07 0-2.86zM5.41 20L4 18.59l7.72-7.72 1.47 1.35L5.41 20z\"/>\n",
              "  </svg>\n",
              "      </button>\n",
              "      \n",
              "  <style>\n",
              "    .colab-df-container {\n",
              "      display:flex;\n",
              "      flex-wrap:wrap;\n",
              "      gap: 12px;\n",
              "    }\n",
              "\n",
              "    .colab-df-convert {\n",
              "      background-color: #E8F0FE;\n",
              "      border: none;\n",
              "      border-radius: 50%;\n",
              "      cursor: pointer;\n",
              "      display: none;\n",
              "      fill: #1967D2;\n",
              "      height: 32px;\n",
              "      padding: 0 0 0 0;\n",
              "      width: 32px;\n",
              "    }\n",
              "\n",
              "    .colab-df-convert:hover {\n",
              "      background-color: #E2EBFA;\n",
              "      box-shadow: 0px 1px 2px rgba(60, 64, 67, 0.3), 0px 1px 3px 1px rgba(60, 64, 67, 0.15);\n",
              "      fill: #174EA6;\n",
              "    }\n",
              "\n",
              "    [theme=dark] .colab-df-convert {\n",
              "      background-color: #3B4455;\n",
              "      fill: #D2E3FC;\n",
              "    }\n",
              "\n",
              "    [theme=dark] .colab-df-convert:hover {\n",
              "      background-color: #434B5C;\n",
              "      box-shadow: 0px 1px 3px 1px rgba(0, 0, 0, 0.15);\n",
              "      filter: drop-shadow(0px 1px 2px rgba(0, 0, 0, 0.3));\n",
              "      fill: #FFFFFF;\n",
              "    }\n",
              "  </style>\n",
              "\n",
              "      <script>\n",
              "        const buttonEl =\n",
              "          document.querySelector('#df-8a15f872-94b9-4340-92c8-bd3641df4dfa button.colab-df-convert');\n",
              "        buttonEl.style.display =\n",
              "          google.colab.kernel.accessAllowed ? 'block' : 'none';\n",
              "\n",
              "        async function convertToInteractive(key) {\n",
              "          const element = document.querySelector('#df-8a15f872-94b9-4340-92c8-bd3641df4dfa');\n",
              "          const dataTable =\n",
              "            await google.colab.kernel.invokeFunction('convertToInteractive',\n",
              "                                                     [key], {});\n",
              "          if (!dataTable) return;\n",
              "\n",
              "          const docLinkHtml = 'Like what you see? Visit the ' +\n",
              "            '<a target=\"_blank\" href=https://colab.research.google.com/notebooks/data_table.ipynb>data table notebook</a>'\n",
              "            + ' to learn more about interactive tables.';\n",
              "          element.innerHTML = '';\n",
              "          dataTable['output_type'] = 'display_data';\n",
              "          await google.colab.output.renderOutput(dataTable, element);\n",
              "          const docLink = document.createElement('div');\n",
              "          docLink.innerHTML = docLinkHtml;\n",
              "          element.appendChild(docLink);\n",
              "        }\n",
              "      </script>\n",
              "    </div>\n",
              "  </div>\n",
              "  "
            ]
          },
          "metadata": {},
          "execution_count": 6
        }
      ]
    },
    {
      "cell_type": "markdown",
      "source": [
        "**It’s imperative to know the count of NaN values for each column before we proceed further.**"
      ],
      "metadata": {
        "id": "8rtNKWetoz2E"
      }
    },
    {
      "cell_type": "code",
      "source": [
        "data1.isnull().sum()"
      ],
      "metadata": {
        "colab": {
          "base_uri": "https://localhost:8080/"
        },
        "id": "LFfFMfcwol_Q",
        "outputId": "639cedcf-8829-4413-c120-ef91911d32be"
      },
      "execution_count": 8,
      "outputs": [
        {
          "output_type": "execute_result",
          "data": {
            "text/plain": [
              "Order ID      0\n",
              "Product ID    0\n",
              "Qty           0\n",
              "Unique ID1    0\n",
              "dtype: int64"
            ]
          },
          "metadata": {},
          "execution_count": 8
        }
      ]
    },
    {
      "cell_type": "markdown",
      "source": [
        "**Similarly, for data2 in the given dataset combine the Order ID + Product ID into one column to make a Unique ID for data2**"
      ],
      "metadata": {
        "id": "I4vJJq6Bo8nI"
      }
    },
    {
      "cell_type": "code",
      "source": [
        "data2 = pd.read_csv('Records Matching Task - data2.csv')"
      ],
      "metadata": {
        "id": "Tu5bN7bDqTI0"
      },
      "execution_count": 11,
      "outputs": []
    },
    {
      "cell_type": "code",
      "source": [
        "data2['Unique ID2'] = data2['Order ID'] + \" \" + data2['Product ID']"
      ],
      "metadata": {
        "id": "jPfCgSzJqa5i"
      },
      "execution_count": 12,
      "outputs": []
    },
    {
      "cell_type": "code",
      "source": [
        "data2.head()"
      ],
      "metadata": {
        "colab": {
          "base_uri": "https://localhost:8080/",
          "height": 206
        },
        "id": "D8iYpXSOqiEv",
        "outputId": "2bf8e09d-d62b-4c84-e18e-61440fdbb5ce"
      },
      "execution_count": 14,
      "outputs": [
        {
          "output_type": "execute_result",
          "data": {
            "text/plain": [
              "         Order ID       Product ID  Qty                      Unique ID2\n",
              "0  CA-2014-100090  FUR-TA-10003715    3  CA-2014-100090 FUR-TA-10003715\n",
              "1  CA-2014-100090  OFF-BI-10001597    6  CA-2014-100090 OFF-BI-10001597\n",
              "2  CA-2014-100293  OFF-PA-10000176    6  CA-2014-100293 OFF-PA-10000176\n",
              "3  CA-2014-100328  OFF-BI-10000343    1  CA-2014-100328 OFF-BI-10000343\n",
              "4  CA-2014-100363  OFF-FA-10000611    2  CA-2014-100363 OFF-FA-10000611"
            ],
            "text/html": [
              "\n",
              "  <div id=\"df-071646d2-be3a-450e-a4ce-914a027a9d89\">\n",
              "    <div class=\"colab-df-container\">\n",
              "      <div>\n",
              "<style scoped>\n",
              "    .dataframe tbody tr th:only-of-type {\n",
              "        vertical-align: middle;\n",
              "    }\n",
              "\n",
              "    .dataframe tbody tr th {\n",
              "        vertical-align: top;\n",
              "    }\n",
              "\n",
              "    .dataframe thead th {\n",
              "        text-align: right;\n",
              "    }\n",
              "</style>\n",
              "<table border=\"1\" class=\"dataframe\">\n",
              "  <thead>\n",
              "    <tr style=\"text-align: right;\">\n",
              "      <th></th>\n",
              "      <th>Order ID</th>\n",
              "      <th>Product ID</th>\n",
              "      <th>Qty</th>\n",
              "      <th>Unique ID2</th>\n",
              "    </tr>\n",
              "  </thead>\n",
              "  <tbody>\n",
              "    <tr>\n",
              "      <th>0</th>\n",
              "      <td>CA-2014-100090</td>\n",
              "      <td>FUR-TA-10003715</td>\n",
              "      <td>3</td>\n",
              "      <td>CA-2014-100090 FUR-TA-10003715</td>\n",
              "    </tr>\n",
              "    <tr>\n",
              "      <th>1</th>\n",
              "      <td>CA-2014-100090</td>\n",
              "      <td>OFF-BI-10001597</td>\n",
              "      <td>6</td>\n",
              "      <td>CA-2014-100090 OFF-BI-10001597</td>\n",
              "    </tr>\n",
              "    <tr>\n",
              "      <th>2</th>\n",
              "      <td>CA-2014-100293</td>\n",
              "      <td>OFF-PA-10000176</td>\n",
              "      <td>6</td>\n",
              "      <td>CA-2014-100293 OFF-PA-10000176</td>\n",
              "    </tr>\n",
              "    <tr>\n",
              "      <th>3</th>\n",
              "      <td>CA-2014-100328</td>\n",
              "      <td>OFF-BI-10000343</td>\n",
              "      <td>1</td>\n",
              "      <td>CA-2014-100328 OFF-BI-10000343</td>\n",
              "    </tr>\n",
              "    <tr>\n",
              "      <th>4</th>\n",
              "      <td>CA-2014-100363</td>\n",
              "      <td>OFF-FA-10000611</td>\n",
              "      <td>2</td>\n",
              "      <td>CA-2014-100363 OFF-FA-10000611</td>\n",
              "    </tr>\n",
              "  </tbody>\n",
              "</table>\n",
              "</div>\n",
              "      <button class=\"colab-df-convert\" onclick=\"convertToInteractive('df-071646d2-be3a-450e-a4ce-914a027a9d89')\"\n",
              "              title=\"Convert this dataframe to an interactive table.\"\n",
              "              style=\"display:none;\">\n",
              "        \n",
              "  <svg xmlns=\"http://www.w3.org/2000/svg\" height=\"24px\"viewBox=\"0 0 24 24\"\n",
              "       width=\"24px\">\n",
              "    <path d=\"M0 0h24v24H0V0z\" fill=\"none\"/>\n",
              "    <path d=\"M18.56 5.44l.94 2.06.94-2.06 2.06-.94-2.06-.94-.94-2.06-.94 2.06-2.06.94zm-11 1L8.5 8.5l.94-2.06 2.06-.94-2.06-.94L8.5 2.5l-.94 2.06-2.06.94zm10 10l.94 2.06.94-2.06 2.06-.94-2.06-.94-.94-2.06-.94 2.06-2.06.94z\"/><path d=\"M17.41 7.96l-1.37-1.37c-.4-.4-.92-.59-1.43-.59-.52 0-1.04.2-1.43.59L10.3 9.45l-7.72 7.72c-.78.78-.78 2.05 0 2.83L4 21.41c.39.39.9.59 1.41.59.51 0 1.02-.2 1.41-.59l7.78-7.78 2.81-2.81c.8-.78.8-2.07 0-2.86zM5.41 20L4 18.59l7.72-7.72 1.47 1.35L5.41 20z\"/>\n",
              "  </svg>\n",
              "      </button>\n",
              "      \n",
              "  <style>\n",
              "    .colab-df-container {\n",
              "      display:flex;\n",
              "      flex-wrap:wrap;\n",
              "      gap: 12px;\n",
              "    }\n",
              "\n",
              "    .colab-df-convert {\n",
              "      background-color: #E8F0FE;\n",
              "      border: none;\n",
              "      border-radius: 50%;\n",
              "      cursor: pointer;\n",
              "      display: none;\n",
              "      fill: #1967D2;\n",
              "      height: 32px;\n",
              "      padding: 0 0 0 0;\n",
              "      width: 32px;\n",
              "    }\n",
              "\n",
              "    .colab-df-convert:hover {\n",
              "      background-color: #E2EBFA;\n",
              "      box-shadow: 0px 1px 2px rgba(60, 64, 67, 0.3), 0px 1px 3px 1px rgba(60, 64, 67, 0.15);\n",
              "      fill: #174EA6;\n",
              "    }\n",
              "\n",
              "    [theme=dark] .colab-df-convert {\n",
              "      background-color: #3B4455;\n",
              "      fill: #D2E3FC;\n",
              "    }\n",
              "\n",
              "    [theme=dark] .colab-df-convert:hover {\n",
              "      background-color: #434B5C;\n",
              "      box-shadow: 0px 1px 3px 1px rgba(0, 0, 0, 0.15);\n",
              "      filter: drop-shadow(0px 1px 2px rgba(0, 0, 0, 0.3));\n",
              "      fill: #FFFFFF;\n",
              "    }\n",
              "  </style>\n",
              "\n",
              "      <script>\n",
              "        const buttonEl =\n",
              "          document.querySelector('#df-071646d2-be3a-450e-a4ce-914a027a9d89 button.colab-df-convert');\n",
              "        buttonEl.style.display =\n",
              "          google.colab.kernel.accessAllowed ? 'block' : 'none';\n",
              "\n",
              "        async function convertToInteractive(key) {\n",
              "          const element = document.querySelector('#df-071646d2-be3a-450e-a4ce-914a027a9d89');\n",
              "          const dataTable =\n",
              "            await google.colab.kernel.invokeFunction('convertToInteractive',\n",
              "                                                     [key], {});\n",
              "          if (!dataTable) return;\n",
              "\n",
              "          const docLinkHtml = 'Like what you see? Visit the ' +\n",
              "            '<a target=\"_blank\" href=https://colab.research.google.com/notebooks/data_table.ipynb>data table notebook</a>'\n",
              "            + ' to learn more about interactive tables.';\n",
              "          element.innerHTML = '';\n",
              "          dataTable['output_type'] = 'display_data';\n",
              "          await google.colab.output.renderOutput(dataTable, element);\n",
              "          const docLink = document.createElement('div');\n",
              "          docLink.innerHTML = docLinkHtml;\n",
              "          element.appendChild(docLink);\n",
              "        }\n",
              "      </script>\n",
              "    </div>\n",
              "  </div>\n",
              "  "
            ]
          },
          "metadata": {},
          "execution_count": 14
        }
      ]
    },
    {
      "cell_type": "code",
      "source": [
        "# check if there exists any null values in data2\n",
        "data2.isnull().sum()"
      ],
      "metadata": {
        "colab": {
          "base_uri": "https://localhost:8080/"
        },
        "id": "XWCDFZRlqkUN",
        "outputId": "38b022c6-83ba-4ac7-bcfa-0057793c53a5"
      },
      "execution_count": 15,
      "outputs": [
        {
          "output_type": "execute_result",
          "data": {
            "text/plain": [
              "Order ID      0\n",
              "Product ID    0\n",
              "Qty           0\n",
              "Unique ID2    0\n",
              "dtype: int64"
            ]
          },
          "metadata": {},
          "execution_count": 15
        }
      ]
    },
    {
      "cell_type": "markdown",
      "source": [
        "**Combining the 2 datasets into one**"
      ],
      "metadata": {
        "id": "AQsJgMX6u85p"
      }
    },
    {
      "cell_type": "code",
      "source": [
        "combined_data = data1.merge(data2, how = 'outer', left_on = ['Unique ID1'], right_on = ['Unique ID2'])\n",
        "combined_data.head()"
      ],
      "metadata": {
        "colab": {
          "base_uri": "https://localhost:8080/",
          "height": 206
        },
        "id": "amVPUw9Nu646",
        "outputId": "82bff866-571d-4b50-84a3-fb2e06a811d6"
      },
      "execution_count": 39,
      "outputs": [
        {
          "output_type": "execute_result",
          "data": {
            "text/plain": [
              "       Order ID_x     Product ID_x  Qty_x                      Unique ID1  \\\n",
              "0  CA-2014-100006  TEC-PH-10002075    3.0  CA-2014-100006 TEC-PH-10002075   \n",
              "1  CA-2014-100090  FUR-TA-10003715    3.0  CA-2014-100090 FUR-TA-10003715   \n",
              "2  CA-2014-100090  OFF-BI-10001597    6.0  CA-2014-100090 OFF-BI-10001597   \n",
              "3  CA-2014-100293  OFF-PA-10000176    6.0  CA-2014-100293 OFF-PA-10000176   \n",
              "4  CA-2014-100328  OFF-BI-10000343    1.0  CA-2014-100328 OFF-BI-10000343   \n",
              "\n",
              "       Order ID_y     Product ID_y  Qty_y                      Unique ID2  \n",
              "0             NaN              NaN    NaN                             NaN  \n",
              "1  CA-2014-100090  FUR-TA-10003715    3.0  CA-2014-100090 FUR-TA-10003715  \n",
              "2  CA-2014-100090  OFF-BI-10001597    6.0  CA-2014-100090 OFF-BI-10001597  \n",
              "3  CA-2014-100293  OFF-PA-10000176    6.0  CA-2014-100293 OFF-PA-10000176  \n",
              "4  CA-2014-100328  OFF-BI-10000343    1.0  CA-2014-100328 OFF-BI-10000343  "
            ],
            "text/html": [
              "\n",
              "  <div id=\"df-6a49c351-99ca-420c-ba8f-d5113010c9ee\">\n",
              "    <div class=\"colab-df-container\">\n",
              "      <div>\n",
              "<style scoped>\n",
              "    .dataframe tbody tr th:only-of-type {\n",
              "        vertical-align: middle;\n",
              "    }\n",
              "\n",
              "    .dataframe tbody tr th {\n",
              "        vertical-align: top;\n",
              "    }\n",
              "\n",
              "    .dataframe thead th {\n",
              "        text-align: right;\n",
              "    }\n",
              "</style>\n",
              "<table border=\"1\" class=\"dataframe\">\n",
              "  <thead>\n",
              "    <tr style=\"text-align: right;\">\n",
              "      <th></th>\n",
              "      <th>Order ID_x</th>\n",
              "      <th>Product ID_x</th>\n",
              "      <th>Qty_x</th>\n",
              "      <th>Unique ID1</th>\n",
              "      <th>Order ID_y</th>\n",
              "      <th>Product ID_y</th>\n",
              "      <th>Qty_y</th>\n",
              "      <th>Unique ID2</th>\n",
              "    </tr>\n",
              "  </thead>\n",
              "  <tbody>\n",
              "    <tr>\n",
              "      <th>0</th>\n",
              "      <td>CA-2014-100006</td>\n",
              "      <td>TEC-PH-10002075</td>\n",
              "      <td>3.0</td>\n",
              "      <td>CA-2014-100006 TEC-PH-10002075</td>\n",
              "      <td>NaN</td>\n",
              "      <td>NaN</td>\n",
              "      <td>NaN</td>\n",
              "      <td>NaN</td>\n",
              "    </tr>\n",
              "    <tr>\n",
              "      <th>1</th>\n",
              "      <td>CA-2014-100090</td>\n",
              "      <td>FUR-TA-10003715</td>\n",
              "      <td>3.0</td>\n",
              "      <td>CA-2014-100090 FUR-TA-10003715</td>\n",
              "      <td>CA-2014-100090</td>\n",
              "      <td>FUR-TA-10003715</td>\n",
              "      <td>3.0</td>\n",
              "      <td>CA-2014-100090 FUR-TA-10003715</td>\n",
              "    </tr>\n",
              "    <tr>\n",
              "      <th>2</th>\n",
              "      <td>CA-2014-100090</td>\n",
              "      <td>OFF-BI-10001597</td>\n",
              "      <td>6.0</td>\n",
              "      <td>CA-2014-100090 OFF-BI-10001597</td>\n",
              "      <td>CA-2014-100090</td>\n",
              "      <td>OFF-BI-10001597</td>\n",
              "      <td>6.0</td>\n",
              "      <td>CA-2014-100090 OFF-BI-10001597</td>\n",
              "    </tr>\n",
              "    <tr>\n",
              "      <th>3</th>\n",
              "      <td>CA-2014-100293</td>\n",
              "      <td>OFF-PA-10000176</td>\n",
              "      <td>6.0</td>\n",
              "      <td>CA-2014-100293 OFF-PA-10000176</td>\n",
              "      <td>CA-2014-100293</td>\n",
              "      <td>OFF-PA-10000176</td>\n",
              "      <td>6.0</td>\n",
              "      <td>CA-2014-100293 OFF-PA-10000176</td>\n",
              "    </tr>\n",
              "    <tr>\n",
              "      <th>4</th>\n",
              "      <td>CA-2014-100328</td>\n",
              "      <td>OFF-BI-10000343</td>\n",
              "      <td>1.0</td>\n",
              "      <td>CA-2014-100328 OFF-BI-10000343</td>\n",
              "      <td>CA-2014-100328</td>\n",
              "      <td>OFF-BI-10000343</td>\n",
              "      <td>1.0</td>\n",
              "      <td>CA-2014-100328 OFF-BI-10000343</td>\n",
              "    </tr>\n",
              "  </tbody>\n",
              "</table>\n",
              "</div>\n",
              "      <button class=\"colab-df-convert\" onclick=\"convertToInteractive('df-6a49c351-99ca-420c-ba8f-d5113010c9ee')\"\n",
              "              title=\"Convert this dataframe to an interactive table.\"\n",
              "              style=\"display:none;\">\n",
              "        \n",
              "  <svg xmlns=\"http://www.w3.org/2000/svg\" height=\"24px\"viewBox=\"0 0 24 24\"\n",
              "       width=\"24px\">\n",
              "    <path d=\"M0 0h24v24H0V0z\" fill=\"none\"/>\n",
              "    <path d=\"M18.56 5.44l.94 2.06.94-2.06 2.06-.94-2.06-.94-.94-2.06-.94 2.06-2.06.94zm-11 1L8.5 8.5l.94-2.06 2.06-.94-2.06-.94L8.5 2.5l-.94 2.06-2.06.94zm10 10l.94 2.06.94-2.06 2.06-.94-2.06-.94-.94-2.06-.94 2.06-2.06.94z\"/><path d=\"M17.41 7.96l-1.37-1.37c-.4-.4-.92-.59-1.43-.59-.52 0-1.04.2-1.43.59L10.3 9.45l-7.72 7.72c-.78.78-.78 2.05 0 2.83L4 21.41c.39.39.9.59 1.41.59.51 0 1.02-.2 1.41-.59l7.78-7.78 2.81-2.81c.8-.78.8-2.07 0-2.86zM5.41 20L4 18.59l7.72-7.72 1.47 1.35L5.41 20z\"/>\n",
              "  </svg>\n",
              "      </button>\n",
              "      \n",
              "  <style>\n",
              "    .colab-df-container {\n",
              "      display:flex;\n",
              "      flex-wrap:wrap;\n",
              "      gap: 12px;\n",
              "    }\n",
              "\n",
              "    .colab-df-convert {\n",
              "      background-color: #E8F0FE;\n",
              "      border: none;\n",
              "      border-radius: 50%;\n",
              "      cursor: pointer;\n",
              "      display: none;\n",
              "      fill: #1967D2;\n",
              "      height: 32px;\n",
              "      padding: 0 0 0 0;\n",
              "      width: 32px;\n",
              "    }\n",
              "\n",
              "    .colab-df-convert:hover {\n",
              "      background-color: #E2EBFA;\n",
              "      box-shadow: 0px 1px 2px rgba(60, 64, 67, 0.3), 0px 1px 3px 1px rgba(60, 64, 67, 0.15);\n",
              "      fill: #174EA6;\n",
              "    }\n",
              "\n",
              "    [theme=dark] .colab-df-convert {\n",
              "      background-color: #3B4455;\n",
              "      fill: #D2E3FC;\n",
              "    }\n",
              "\n",
              "    [theme=dark] .colab-df-convert:hover {\n",
              "      background-color: #434B5C;\n",
              "      box-shadow: 0px 1px 3px 1px rgba(0, 0, 0, 0.15);\n",
              "      filter: drop-shadow(0px 1px 2px rgba(0, 0, 0, 0.3));\n",
              "      fill: #FFFFFF;\n",
              "    }\n",
              "  </style>\n",
              "\n",
              "      <script>\n",
              "        const buttonEl =\n",
              "          document.querySelector('#df-6a49c351-99ca-420c-ba8f-d5113010c9ee button.colab-df-convert');\n",
              "        buttonEl.style.display =\n",
              "          google.colab.kernel.accessAllowed ? 'block' : 'none';\n",
              "\n",
              "        async function convertToInteractive(key) {\n",
              "          const element = document.querySelector('#df-6a49c351-99ca-420c-ba8f-d5113010c9ee');\n",
              "          const dataTable =\n",
              "            await google.colab.kernel.invokeFunction('convertToInteractive',\n",
              "                                                     [key], {});\n",
              "          if (!dataTable) return;\n",
              "\n",
              "          const docLinkHtml = 'Like what you see? Visit the ' +\n",
              "            '<a target=\"_blank\" href=https://colab.research.google.com/notebooks/data_table.ipynb>data table notebook</a>'\n",
              "            + ' to learn more about interactive tables.';\n",
              "          element.innerHTML = '';\n",
              "          dataTable['output_type'] = 'display_data';\n",
              "          await google.colab.output.renderOutput(dataTable, element);\n",
              "          const docLink = document.createElement('div');\n",
              "          docLink.innerHTML = docLinkHtml;\n",
              "          element.appendChild(docLink);\n",
              "        }\n",
              "      </script>\n",
              "    </div>\n",
              "  </div>\n",
              "  "
            ]
          },
          "metadata": {},
          "execution_count": 39
        }
      ]
    },
    {
      "cell_type": "markdown",
      "source": [
        "***Question-1***\n",
        "###***How to identify the Records (Order ID + Product ID combination) present in data1 but missing in data2 (Specify the number of records missing in your answer)*** "
      ],
      "metadata": {
        "id": "Ocn68UYpq-Oh"
      }
    },
    {
      "cell_type": "code",
      "source": [
        "# Its similar to finding A-B in sets, we just have to find the difference\n",
        "ans1 = set(data1['Unique ID1']).difference(set(data2['Unique ID2']))\n",
        "print(len(ans1))"
      ],
      "metadata": {
        "colab": {
          "base_uri": "https://localhost:8080/"
        },
        "id": "R25giTkBq4Uy",
        "outputId": "2c2770a5-ae86-43ab-f627-6031fc93bcfc"
      },
      "execution_count": 20,
      "outputs": [
        {
          "output_type": "stream",
          "name": "stdout",
          "text": [
            "507\n"
          ]
        }
      ]
    },
    {
      "cell_type": "markdown",
      "source": [
        "**Or you can create an eniterly new dataframe where records present in data1 are missing in data2**"
      ],
      "metadata": {
        "id": "BJPDZ9zxvf74"
      }
    },
    {
      "cell_type": "code",
      "source": [
        "present_in_data1_missing_in_data2 = combined_data[combined_data['Unique ID2'].isna()]\n",
        "present_in_data1_missing_in_data2.shape[0]"
      ],
      "metadata": {
        "colab": {
          "base_uri": "https://localhost:8080/"
        },
        "id": "yptocKhewsoB",
        "outputId": "d396939e-036b-4f04-84cd-388c1ab84685"
      },
      "execution_count": 42,
      "outputs": [
        {
          "output_type": "execute_result",
          "data": {
            "text/plain": [
              "507"
            ]
          },
          "metadata": {},
          "execution_count": 42
        }
      ]
    },
    {
      "cell_type": "markdown",
      "source": [
        "***Answer-1***\n",
        "###***There are total 507 records that are present in data1 but missing in data2.*** "
      ],
      "metadata": {
        "id": "ypNbl_DvshMR"
      }
    },
    {
      "cell_type": "markdown",
      "source": [
        "***Question-2***\n",
        "###***How to identify the Records (Order ID + Product ID combination) misisng in data1 but present in data2 (Specify the number of records missing in your answer)*** "
      ],
      "metadata": {
        "id": "FXEsFAzasuvu"
      }
    },
    {
      "cell_type": "code",
      "source": [
        "# Its similar to finding B-A in sets, we just have to find the difference\n",
        "ans2 = set(data2['Unique ID2']).difference(set(data1['Unique ID1']))\n",
        "print(len(ans2))"
      ],
      "metadata": {
        "colab": {
          "base_uri": "https://localhost:8080/"
        },
        "id": "peIW7gaXs6ZA",
        "outputId": "2322691f-187a-47a2-ea9b-446ab685ca8a"
      },
      "execution_count": 23,
      "outputs": [
        {
          "output_type": "stream",
          "name": "stdout",
          "text": [
            "508\n"
          ]
        }
      ]
    },
    {
      "cell_type": "code",
      "source": [
        "# or you can use method 2\n",
        "missing_in_data1_present_in_data2 = combined_data[combined_data['Unique ID1'].isna()]\n",
        "missing_in_data1_present_in_data2.shape[0]"
      ],
      "metadata": {
        "colab": {
          "base_uri": "https://localhost:8080/"
        },
        "id": "3wIeu4vzx_rI",
        "outputId": "7d1116f4-e129-4221-fdfc-a90f898dcfe3"
      },
      "execution_count": 44,
      "outputs": [
        {
          "output_type": "execute_result",
          "data": {
            "text/plain": [
              "508"
            ]
          },
          "metadata": {},
          "execution_count": 44
        }
      ]
    },
    {
      "cell_type": "markdown",
      "source": [
        "***Answer-2***\n",
        "###***There are total 508 records that are present in data2 but missing in data1.*** "
      ],
      "metadata": {
        "id": "7bmHlMGhtLkd"
      }
    },
    {
      "cell_type": "markdown",
      "source": [
        "***Question-3***\n",
        "###***Find the Sum of the total Qty of Records missing in data1 but present in data2.*** "
      ],
      "metadata": {
        "id": "-cIE0BcOtRm9"
      }
    },
    {
      "cell_type": "code",
      "source": [
        "sum_of_qty_records = missing_in_data1_present_in_data2['Qty_y'].sum()\n",
        "print(sum_of_qty_records)"
      ],
      "metadata": {
        "colab": {
          "base_uri": "https://localhost:8080/"
        },
        "id": "x6zfnwbfyM0c",
        "outputId": "37ff8e4f-f0e6-41fa-80e1-dc944cae3a28"
      },
      "execution_count": 46,
      "outputs": [
        {
          "output_type": "stream",
          "name": "stdout",
          "text": [
            "1956.0\n"
          ]
        }
      ]
    },
    {
      "cell_type": "markdown",
      "source": [
        "***Answer-3***\n",
        "###***The sum of the total Qty of Records missing in data1 but present in data2 are 1956.*** "
      ],
      "metadata": {
        "id": "adr1lQJOytHc"
      }
    },
    {
      "cell_type": "markdown",
      "source": [
        "***Question-3***\n",
        "###***Find the total number of unique records (Order ID + Product ID combination) present in the combined dataset of data1 and data2*** "
      ],
      "metadata": {
        "id": "KL8wfpPby6Oa"
      }
    },
    {
      "cell_type": "code",
      "source": [
        "combined_data.shape[0]"
      ],
      "metadata": {
        "colab": {
          "base_uri": "https://localhost:8080/"
        },
        "id": "WWbijmqszKOB",
        "outputId": "d29e626b-2a59-4ce3-ab5e-8633d65ddc73"
      },
      "execution_count": 48,
      "outputs": [
        {
          "output_type": "execute_result",
          "data": {
            "text/plain": [
              "9986"
            ]
          },
          "metadata": {},
          "execution_count": 48
        }
      ]
    },
    {
      "cell_type": "markdown",
      "source": [
        "***Answer-4***\n",
        "###***The total number of unique records (Order ID + Product ID combination) present in the combined dataset of data1 and data2 are 9986.*** "
      ],
      "metadata": {
        "id": "xbFAhU-Dy_Xf"
      }
    }
  ]
}